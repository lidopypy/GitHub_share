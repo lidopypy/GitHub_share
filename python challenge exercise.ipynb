{
 "cells": [
  {
   "cell_type": "markdown",
   "metadata": {},
   "source": [
    "Level.1"
   ]
  },
  {
   "cell_type": "code",
   "execution_count": 1,
   "metadata": {
    "collapsed": true
   },
   "outputs": [],
   "source": [
    "def chrshift_function(num=None,list=[]):\n",
    "    num = num\n",
    "    list = list\n",
    "    Eng_list = 'abcdefghijklmnopqrstuvwxyz'\n",
    "    #做字典轉換\n",
    "    chr2num = { i:chr for chr,i in enumerate(Eng_list)}\n",
    "    num2chr = { chr:i for chr,i in enumerate(Eng_list)}\n",
    "    for i in range(num):\n",
    "        num2chr[26+int(i)]=num2chr[i]\n",
    "    \n",
    "    #將list轉成num\n",
    "    num_list = []\n",
    "    for i in list:\n",
    "        if i in chr2num:\n",
    "            num_list.append(str(chr2num.get(i)+num))\n",
    "        else :\n",
    "            num_list.append(i)\n",
    "    \n",
    "    #將num_list shift num個字再轉成answer\n",
    "    answer = []\n",
    "    for i in num_list:\n",
    "        try:\n",
    "            if int(i) in num2chr:\n",
    "                answer.append(num2chr.get(int(i)))\n",
    "            else:\n",
    "                answer.append(i)\n",
    "        except:\n",
    "            answer.append(i) \n",
    "    for j in answer:\n",
    "        print(j, end=\"\")"
   ]
  },
  {
   "cell_type": "code",
   "execution_count": 2,
   "metadata": {},
   "outputs": [
    {
     "name": "stdout",
     "output_type": "stream",
     "text": [
      "i hope you didnt translate it by hand. thats what computers are for. doing it in by hand is inefficient and that's why this text is so long. using string.maketrans() is recommended. now apply on the url."
     ]
    }
   ],
   "source": [
    "list = 'g fmnc wms bgblr rpylqjyrc gr zw fylb. rfyrq ufyr amknsrcpq ypc dmp. bmgle gr gl zw fylb gq glcddgagclr ylb rfyr\\'q ufw rfgq rcvr gq qm jmle. sqgle qrpgle.kyicrpylq() gq pcamkkclbcb. lmu ynnjw ml rfc spj.'\n",
    "chrshift_function(num = 2,list = list)"
   ]
  },
  {
   "cell_type": "code",
   "execution_count": 3,
   "metadata": {},
   "outputs": [
    {
     "name": "stdout",
     "output_type": "stream",
     "text": [
      "ocr"
     ]
    }
   ],
   "source": [
    "chrshift_function(num = 2,list = 'map')"
   ]
  },
  {
   "cell_type": "markdown",
   "metadata": {},
   "source": [
    "answer = 'ocr'"
   ]
  },
  {
   "cell_type": "markdown",
   "metadata": {},
   "source": [
    "Level.2"
   ]
  },
  {
   "cell_type": "markdown",
   "metadata": {},
   "source": [
    "根據提示，將source page下載下來，用open開啟。讀進txt"
   ]
  },
  {
   "cell_type": "code",
   "execution_count": 4,
   "metadata": {
    "collapsed": true
   },
   "outputs": [],
   "source": [
    "with open('C:\\\\Users\\\\lido_lee\\\\Downloads\\\\python_challenge\\\\ocr.html', encoding='utf-8') as f:\n",
    "    txt = f.read()\n",
    "# print(txt)"
   ]
  },
  {
   "cell_type": "code",
   "execution_count": 5,
   "metadata": {
    "collapsed": false
   },
   "outputs": [
    {
     "name": "stdout",
     "output_type": "stream",
     "text": [
      "h t m l h e a d t i t l e o c r t i t l e l i n k r e l s t y l e s h e e t t y p e t e x t c s s h r e f s t y l e c s s h e a d b o d y c e n t e r i m g s r c o c r j p g b r f o n t c o l o r c r e c o g n i z e t h e c h a r a c t e r s m a y b e t h e y a r e i n t h e b o o k b r b u t M A Y B E t h e y a r e i n t h e p a g e s o u r c e c e n t e r b r b r b r f o n t s i z e c o l o r g o l d G e n e r a l t i p s l i U s e t h e h i n t s T h e y a r e h e l p f u l m o s t o f t h e t i m e s l i l i I n v e s t i g a t e t h e d a t a g i v e n t o y o u l i l i A v o i d l o o k i n g f o r s p o i l e r s l i b r F o r u m s a h r e f h t t p w w w p y t h o n c h a l l e n g e c o m f o r u m s P y t h o n C h a l l e n g e F o r u m s a r e a d b e f o r e y o u p o s t b r I R C i r c f r e e n o d e n e t p y t h o n c h a l l e n g e b r b r T o s e e t h e s o l u t i o n s t o t h e p r e v i o u s l e v e l r e p l a c e p c w i t h p c c i e g o t o h t t p w w w p y t h o n c h a l l e n g e c o m p c c d e f o c r h t m l b o d y h t m l f i n d r a r e c h a r a c t e r s i n t h e m e s s b e l o w e q u a l i t y "
     ]
    }
   ],
   "source": [
    "import re\n",
    "answer = []\n",
    "new_article = re.sub(\"[^a-zA-Z]\",\"\",txt)\n",
    "for i in new_article:\n",
    "    print(i,end=\" \")"
   ]
  },
  {
   "cell_type": "markdown",
   "metadata": {},
   "source": [
    "answer = 'equality'"
   ]
  },
  {
   "cell_type": "markdown",
   "metadata": {},
   "source": [
    "Level.3"
   ]
  },
  {
   "cell_type": "code",
   "execution_count": 6,
   "metadata": {
    "collapsed": false
   },
   "outputs": [],
   "source": [
    "import urllib3\n",
    "http = urllib3.PoolManager()\n",
    "url = 'http://www.pythonchallenge.com/pc/def/equality.html'\n",
    "response = http.request('GET', url)\n",
    "txt = str(response.data)\n",
    "# print(txt)"
   ]
  },
  {
   "cell_type": "code",
   "execution_count": 7,
   "metadata": {
    "collapsed": false
   },
   "outputs": [
    {
     "name": "stdout",
     "output_type": "stream",
     "text": [
      "['l', 'i', 'n', 'k', 'e', 'd', 'l', 'i', 's', 't']\n"
     ]
    }
   ],
   "source": [
    "import re\n",
    "answer = []\n",
    "new_article = re.findall(\"[^A-Z][A-Z]{3}[a-z][A-Z]{3}[^A-Z]\",txt)\n",
    "type(new_article)\n",
    "for i in new_article:\n",
    "    answer.append(i[4])\n",
    "print(answer)"
   ]
  },
  {
   "cell_type": "markdown",
   "metadata": {},
   "source": [
    "answer = 'linkedlist'"
   ]
  },
  {
   "cell_type": "markdown",
   "metadata": {},
   "source": [
    "Level.4"
   ]
  },
  {
   "cell_type": "code",
   "execution_count": 8,
   "metadata": {},
   "outputs": [],
   "source": [
    "import urllib3, re\n",
    "Purl = 'http://www.pythonchallenge.com/pc/def/linkedlist.php?nothing='\n",
    "url = '12345'\n",
    "def find_url(Purl=None,url=None,i=0):\n",
    "    while True:\n",
    "        http = urllib3.PoolManager()\n",
    "        response = http.request('GET', Purl+url)\n",
    "        txt = str(response.data)\n",
    "        hit_num = re.findall(\"[0-9]\",txt)\n",
    "        if hit_num == []:\n",
    "            print('i=',i)\n",
    "            print('url=',url)\n",
    "            break\n",
    "        url = ''\n",
    "        for j in hit_num:\n",
    "            url += j\n",
    "        i += 1"
   ]
  },
  {
   "cell_type": "code",
   "execution_count": 9,
   "metadata": {},
   "outputs": [
    {
     "name": "stdout",
     "output_type": "stream",
     "text": [
      "i= 85\nurl= 16044\n"
     ]
    }
   ],
   "source": [
    "find_url(Purl,url='12345')"
   ]
  },
  {
   "cell_type": "markdown",
   "metadata": {},
   "source": [
    "第一輪跑了85次...\n",
    "將url輸入進去看看"
   ]
  },
  {
   "cell_type": "code",
   "execution_count": 10,
   "metadata": {},
   "outputs": [
    {
     "name": "stdout",
     "output_type": "stream",
     "text": [
      "b'Yes. Divide by two and keep going.'\n"
     ]
    }
   ],
   "source": [
    "Purl = 'http://www.pythonchallenge.com/pc/def/linkedlist.php?nothing='\n",
    "url = '16044'\n",
    "http = urllib3.PoolManager()\n",
    "response = http.request('GET', Purl+url)\n",
    "txt = str(response.data)\n",
    "print(txt)"
   ]
  },
  {
   "cell_type": "markdown",
   "metadata": {},
   "source": [
    "除以二再跑一次..."
   ]
  },
  {
   "cell_type": "code",
   "execution_count": 11,
   "metadata": {},
   "outputs": [
    {
     "name": "stdout",
     "output_type": "stream",
     "text": [
      "i= 363\nurl= 66831\n"
     ]
    }
   ],
   "source": [
    "find_url(Purl,url='8022')"
   ]
  },
  {
   "cell_type": "markdown",
   "metadata": {},
   "source": [
    "跑了363輪...再輸入看看"
   ]
  },
  {
   "cell_type": "code",
   "execution_count": 12,
   "metadata": {},
   "outputs": [
    {
     "name": "stdout",
     "output_type": "stream",
     "text": [
      "b'peak.html'\n"
     ]
    }
   ],
   "source": [
    "Purl = 'http://www.pythonchallenge.com/pc/def/linkedlist.php?nothing='\n",
    "url = '66831'\n",
    "http = urllib3.PoolManager()\n",
    "response = http.request('GET', Purl+url)\n",
    "txt = str(response.data)\n",
    "print(txt)"
   ]
  },
  {
   "cell_type": "markdown",
   "metadata": {},
   "source": [
    "answer = 'peak'"
   ]
  },
  {
   "cell_type": "markdown",
   "metadata": {},
   "source": [
    "Level.5 peak hell 聽起來像是 pickle? 泡菜? 輸入進去看看"
   ]
  },
  {
   "cell_type": "markdown",
   "metadata": {},
   "source": [
    "......還真的......yes! pickle!，阿接下來哩!?"
   ]
  },
  {
   "cell_type": "code",
   "execution_count": null,
   "metadata": {},
   "outputs": [],
   "source": []
  },
  {
   "cell_type": "code",
   "execution_count": null,
   "metadata": {},
   "outputs": [],
   "source": []
  },
  {
   "cell_type": "code",
   "execution_count": null,
   "metadata": {},
   "outputs": [],
   "source": []
  },
  {
   "cell_type": "code",
   "execution_count": null,
   "metadata": {},
   "outputs": [],
   "source": []
  },
  {
   "cell_type": "code",
   "execution_count": null,
   "metadata": {},
   "outputs": [],
   "source": []
  }
 ],
 "metadata": {
  "kernelspec": {
   "display_name": "Python 2",
   "language": "python",
   "name": "python2"
  },
  "language_info": {
   "codemirror_mode": {
    "name": "ipython",
    "version": 2
   },
   "file_extension": ".py",
   "mimetype": "text/x-python",
   "name": "python",
   "nbconvert_exporter": "python",
   "pygments_lexer": "ipython2",
   "version": "2.7.6"
  }
 },
 "nbformat": 4,
 "nbformat_minor": 0
}
